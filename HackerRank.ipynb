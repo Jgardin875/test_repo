{
 "cells": [
  {
   "cell_type": "code",
   "execution_count": 4,
   "id": "6c58e064",
   "metadata": {},
   "outputs": [],
   "source": [
    "import pandas as pd\n"
   ]
  },
  {
   "cell_type": "code",
   "execution_count": null,
   "id": "6fb03859",
   "metadata": {},
   "outputs": [],
   "source": []
  },
  {
   "cell_type": "code",
   "execution_count": 6,
   "id": "758c02ca",
   "metadata": {},
   "outputs": [],
   "source": [
    "def is_leap(year):\n",
    "    leap = False\n",
    "    \n",
    "    if year % 400 == 0:\n",
    "        leap = True\n",
    "    elif year % 100 == 0:\n",
    "        leap = False\n",
    "    elif year % 4 == 0:\n",
    "        leap = True\n",
    "    else:\n",
    "        leap = False\n",
    "    \n",
    "    return leap"
   ]
  },
  {
   "cell_type": "code",
   "execution_count": 7,
   "id": "9c564837",
   "metadata": {
    "scrolled": true
   },
   "outputs": [
    {
     "data": {
      "text/plain": [
       "False"
      ]
     },
     "execution_count": 7,
     "metadata": {},
     "output_type": "execute_result"
    }
   ],
   "source": [
    "is_leap(1900)"
   ]
  },
  {
   "cell_type": "code",
   "execution_count": 8,
   "id": "039ff375",
   "metadata": {},
   "outputs": [
    {
     "data": {
      "text/plain": [
       "True"
      ]
     },
     "execution_count": 8,
     "metadata": {},
     "output_type": "execute_result"
    }
   ],
   "source": [
    "is_leap(2000)"
   ]
  },
  {
   "cell_type": "code",
   "execution_count": null,
   "id": "674f4ed2",
   "metadata": {},
   "outputs": [],
   "source": []
  },
  {
   "cell_type": "code",
   "execution_count": null,
   "id": "1739979e",
   "metadata": {},
   "outputs": [],
   "source": []
  },
  {
   "cell_type": "markdown",
   "id": "650a1dce",
   "metadata": {},
   "source": [
    "for integers i<n, print i^2. "
   ]
  },
  {
   "cell_type": "markdown",
   "id": "72e6ce83",
   "metadata": {},
   "source": [
    "sample:\n",
    "    5\n",
    "    \n",
    "output:\n",
    "    0\n",
    "    1\n",
    "    4\n",
    "    9\n",
    "    16"
   ]
  },
  {
   "cell_type": "code",
   "execution_count": 15,
   "id": "762e5190",
   "metadata": {},
   "outputs": [],
   "source": [
    "n=5"
   ]
  },
  {
   "cell_type": "code",
   "execution_count": 16,
   "id": "48d16ef6",
   "metadata": {},
   "outputs": [
    {
     "name": "stdout",
     "output_type": "stream",
     "text": [
      "25\n",
      "16\n",
      "9\n",
      "4\n",
      "1\n",
      "0\n"
     ]
    }
   ],
   "source": [
    "while n >= 0:\n",
    "    print(n**2)\n",
    "    n -= 1"
   ]
  },
  {
   "cell_type": "code",
   "execution_count": null,
   "id": "d3988763",
   "metadata": {},
   "outputs": [],
   "source": [
    "# i need to reverse order and exclude outer number"
   ]
  },
  {
   "cell_type": "code",
   "execution_count": 19,
   "id": "ecb994bf",
   "metadata": {},
   "outputs": [],
   "source": [
    "n = 5"
   ]
  },
  {
   "cell_type": "code",
   "execution_count": 20,
   "id": "004c4b66",
   "metadata": {},
   "outputs": [],
   "source": [
    "i = 0"
   ]
  },
  {
   "cell_type": "code",
   "execution_count": 21,
   "id": "ddfc3bdb",
   "metadata": {},
   "outputs": [
    {
     "name": "stdout",
     "output_type": "stream",
     "text": [
      "0\n",
      "1\n",
      "4\n",
      "9\n",
      "16\n"
     ]
    }
   ],
   "source": [
    "while i < n:\n",
    "    print(i**2)\n",
    "    i += 1"
   ]
  },
  {
   "cell_type": "code",
   "execution_count": null,
   "id": "3a90399e",
   "metadata": {},
   "outputs": [],
   "source": []
  },
  {
   "cell_type": "markdown",
   "id": "57c20cd3",
   "metadata": {},
   "source": [
    "input: 5\n",
    "\n",
    "output:12345"
   ]
  },
  {
   "cell_type": "code",
   "execution_count": 22,
   "id": "c91f6a81",
   "metadata": {},
   "outputs": [],
   "source": [
    "n=5"
   ]
  },
  {
   "cell_type": "code",
   "execution_count": 23,
   "id": "47c51a95",
   "metadata": {},
   "outputs": [
    {
     "name": "stdout",
     "output_type": "stream",
     "text": [
      "1\n",
      "2\n",
      "3\n",
      "4\n"
     ]
    }
   ],
   "source": [
    "for i in range(1, n):\n",
    "    print(i)"
   ]
  },
  {
   "cell_type": "code",
   "execution_count": 24,
   "id": "23c7e982",
   "metadata": {},
   "outputs": [
    {
     "name": "stdout",
     "output_type": "stream",
     "text": [
      "12345"
     ]
    }
   ],
   "source": [
    "for i in range(1, n+1):\n",
    "    print(i, end='')"
   ]
  },
  {
   "cell_type": "code",
   "execution_count": null,
   "id": "1a624c37",
   "metadata": {},
   "outputs": [],
   "source": []
  },
  {
   "cell_type": "markdown",
   "id": "bbc07f48",
   "metadata": {},
   "source": [
    "Working with strings"
   ]
  },
  {
   "cell_type": "code",
   "execution_count": 76,
   "id": "a2cf9f81",
   "metadata": {},
   "outputs": [],
   "source": [
    "def split_and_join(line):\n",
    "    # write your code here\n",
    "    a = line.split(' ')\n",
    "    b = '-'.join(a)\n",
    "    return b"
   ]
  },
  {
   "cell_type": "code",
   "execution_count": 77,
   "id": "fe847a17",
   "metadata": {},
   "outputs": [
    {
     "data": {
      "text/plain": [
       "'i-like-pie'"
      ]
     },
     "execution_count": 77,
     "metadata": {},
     "output_type": "execute_result"
    }
   ],
   "source": [
    "split_and_join('i like pie')"
   ]
  },
  {
   "cell_type": "code",
   "execution_count": null,
   "id": "c921c92e",
   "metadata": {},
   "outputs": [],
   "source": [
    "if __name__ == '__main__':\n",
    "    x = int(input())\n",
    "    y = int(input())\n",
    "    z = int(input())\n",
    "    n = int(input())"
   ]
  },
  {
   "cell_type": "code",
   "execution_count": null,
   "id": "27cebdf3",
   "metadata": {},
   "outputs": [],
   "source": [
    "cube x, y, z, give all possible coord for cube where the sum of all coord != n\n",
    "(1,1,1) 1+1+1 = 3 , n = 3"
   ]
  },
  {
   "cell_type": "code",
   "execution_count": 1,
   "id": "c155d724",
   "metadata": {},
   "outputs": [],
   "source": [
    "from itertools import permutations"
   ]
  },
  {
   "cell_type": "code",
   "execution_count": 2,
   "id": "1d8b4cbf",
   "metadata": {},
   "outputs": [
    {
     "ename": "TypeError",
     "evalue": "permutations() missing required argument 'iterable' (pos 1)",
     "output_type": "error",
     "traceback": [
      "\u001b[0;31m---------------------------------------------------------------------------\u001b[0m",
      "\u001b[0;31mTypeError\u001b[0m                                 Traceback (most recent call last)",
      "Input \u001b[0;32mIn [2]\u001b[0m, in \u001b[0;36m<cell line: 1>\u001b[0;34m()\u001b[0m\n\u001b[0;32m----> 1\u001b[0m \u001b[43mpermutations\u001b[49m\u001b[43m(\u001b[49m\u001b[43m)\u001b[49m\n",
      "\u001b[0;31mTypeError\u001b[0m: permutations() missing required argument 'iterable' (pos 1)"
     ]
    }
   ],
   "source": [
    "permutations(x, y, z, 3)"
   ]
  },
  {
   "cell_type": "code",
   "execution_count": null,
   "id": "fa4c6c61",
   "metadata": {},
   "outputs": [],
   "source": []
  },
  {
   "cell_type": "code",
   "execution_count": 27,
   "id": "6f911ecb",
   "metadata": {},
   "outputs": [
    {
     "name": "stdout",
     "output_type": "stream",
     "text": [
      "5\n",
      "2 3 5 6 6\n"
     ]
    }
   ],
   "source": [
    "if __name__ == '__main__':\n",
    "    n = int(input())\n",
    "    arr = map(int, input().split())"
   ]
  },
  {
   "cell_type": "code",
   "execution_count": 28,
   "id": "8c5ee3a7",
   "metadata": {},
   "outputs": [],
   "source": [
    "m = list(arr)"
   ]
  },
  {
   "cell_type": "code",
   "execution_count": 29,
   "id": "f43e0a8e",
   "metadata": {},
   "outputs": [
    {
     "data": {
      "text/plain": [
       "[2, 3, 5, 6, 6]"
      ]
     },
     "execution_count": 29,
     "metadata": {},
     "output_type": "execute_result"
    }
   ],
   "source": [
    "m"
   ]
  },
  {
   "cell_type": "code",
   "execution_count": 30,
   "id": "18bbf66b",
   "metadata": {},
   "outputs": [
    {
     "data": {
      "text/plain": [
       "6"
      ]
     },
     "execution_count": 30,
     "metadata": {},
     "output_type": "execute_result"
    }
   ],
   "source": [
    "max(m)"
   ]
  },
  {
   "cell_type": "code",
   "execution_count": 33,
   "id": "3679ee9a",
   "metadata": {},
   "outputs": [],
   "source": [
    "l = []\n",
    "for x in m:\n",
    "    if x < max(m):\n",
    "        l.append(x)"
   ]
  },
  {
   "cell_type": "code",
   "execution_count": 35,
   "id": "93c4da8f",
   "metadata": {},
   "outputs": [
    {
     "name": "stdout",
     "output_type": "stream",
     "text": [
      "5\n"
     ]
    }
   ],
   "source": [
    "print(max(l))3"
   ]
  },
  {
   "cell_type": "code",
   "execution_count": null,
   "id": "be31d4dd",
   "metadata": {},
   "outputs": [],
   "source": []
  },
  {
   "cell_type": "code",
   "execution_count": null,
   "id": "b47d9925",
   "metadata": {},
   "outputs": [],
   "source": []
  },
  {
   "cell_type": "code",
   "execution_count": null,
   "id": "32b3f31b",
   "metadata": {},
   "outputs": [],
   "source": []
  },
  {
   "cell_type": "code",
   "execution_count": null,
   "id": "bf6d8df1",
   "metadata": {},
   "outputs": [],
   "source": [
    "\n",
    "\n",
    "The * is being used to grab additional returns from the split statement.\n",
    "\n",
    "So if you had:\n",
    "\n",
    ">>> first, *rest = input().split()\n",
    ">>> print(first)\n",
    ">>> print(*rest)\n",
    "\n",
    "and ran it and typed in \"hello my name is bob\" It would print out\n",
    "\n",
    "hello\n",
    "['my', 'name', 'is', 'bob']\n",
    "\n",
    "Another example would be this:\n",
    "\n",
    ">>> a, b, *rest = range(5)\n",
    ">>> a, b, rest\n",
    "(0, 1, [2,3,4])\n",
    "\n",
    "It can also be used in any position which can lead to some interesting situations\n",
    "\n",
    ">>> a, *middle, c = range(4)\n",
    ">>> a, middle, c\n",
    "(0, [1,2], 3)\n",
    "\n"
   ]
  },
  {
   "cell_type": "code",
   "execution_count": 75,
   "id": "64b7d414",
   "metadata": {
    "scrolled": true
   },
   "outputs": [
    {
     "name": "stdout",
     "output_type": "stream",
     "text": [
      "2\n",
      "M 1 2 3\n",
      "A 3 4 5\n",
      "A\n",
      "4.00\n"
     ]
    }
   ],
   "source": [
    "if __name__ == '__main__':\n",
    "    n = int(input())\n",
    "    student_marks = {}\n",
    "    for _ in range(n):\n",
    "        name, *line = input().split()\n",
    "        scores = list(map(float, line))\n",
    "        student_marks[name] = scores\n",
    "    query_name = input()\n",
    "    l = round((sum(student_marks[query_name])/3),2)\n",
    "    result = format(l, '.2f')\n",
    "    print(result)"
   ]
  },
  {
   "cell_type": "code",
   "execution_count": 41,
   "id": "1fc7ea60",
   "metadata": {
    "scrolled": true
   },
   "outputs": [
    {
     "data": {
      "text/plain": [
       "[52.0, 56.0, 60.0]"
      ]
     },
     "execution_count": 41,
     "metadata": {},
     "output_type": "execute_result"
    }
   ],
   "source": [
    "scores"
   ]
  },
  {
   "cell_type": "code",
   "execution_count": 44,
   "id": "d3bf0e65",
   "metadata": {},
   "outputs": [
    {
     "data": {
      "text/plain": [
       "[52.0, 56.0, 60.0]"
      ]
     },
     "execution_count": 44,
     "metadata": {},
     "output_type": "execute_result"
    }
   ],
   "source": [
    "scores"
   ]
  },
  {
   "cell_type": "code",
   "execution_count": 47,
   "id": "0f49be06",
   "metadata": {
    "scrolled": true
   },
   "outputs": [
    {
     "data": {
      "text/plain": [
       "{'Krishna': [67.0, 68.0, 69.0],\n",
       " 'Arjun': [70.0, 98.0, 63.0],\n",
       " 'Malika': [52.0, 56.0, 60.0]}"
      ]
     },
     "execution_count": 47,
     "metadata": {},
     "output_type": "execute_result"
    }
   ],
   "source": [
    "student_marks"
   ]
  },
  {
   "cell_type": "code",
   "execution_count": 51,
   "id": "73f69725",
   "metadata": {},
   "outputs": [
    {
     "data": {
      "text/plain": [
       "[52.0, 56.0, 60.0]"
      ]
     },
     "execution_count": 51,
     "metadata": {},
     "output_type": "execute_result"
    }
   ],
   "source": [
    "student_marks['Malika']"
   ]
  },
  {
   "cell_type": "code",
   "execution_count": 55,
   "id": "b382cf36",
   "metadata": {},
   "outputs": [
    {
     "data": {
      "text/plain": [
       "[52.0, 56.0, 60.0]"
      ]
     },
     "execution_count": 55,
     "metadata": {},
     "output_type": "execute_result"
    }
   ],
   "source": [
    "student_marks[query_name]"
   ]
  },
  {
   "cell_type": "code",
   "execution_count": 72,
   "id": "0385ad12",
   "metadata": {
    "scrolled": true
   },
   "outputs": [
    {
     "data": {
      "text/plain": [
       "56.0"
      ]
     },
     "execution_count": 72,
     "metadata": {},
     "output_type": "execute_result"
    }
   ],
   "source": [
    "round((sum(student_marks[query_name])/3),2)"
   ]
  },
  {
   "cell_type": "code",
   "execution_count": null,
   "id": "046b47db",
   "metadata": {},
   "outputs": [],
   "source": [
    "3\n",
    "Krishna 67 68 69\n",
    "Arjun 70 98 63\n",
    "Malika 52 56 60\n",
    "Malika"
   ]
  },
  {
   "cell_type": "code",
   "execution_count": null,
   "id": "9cec854d",
   "metadata": {},
   "outputs": [],
   "source": []
  },
  {
   "cell_type": "code",
   "execution_count": 82,
   "id": "8f1135b2",
   "metadata": {},
   "outputs": [],
   "source": [
    "def print_full_name(first, last):\n",
    "    print(f'Hello {first} {last}! You just delved into python.')"
   ]
  },
  {
   "cell_type": "code",
   "execution_count": 83,
   "id": "1fa0dfd9",
   "metadata": {},
   "outputs": [
    {
     "name": "stdout",
     "output_type": "stream",
     "text": [
      "Hello jess g! You just delved into python.\n"
     ]
    }
   ],
   "source": [
    "print_full_name('jess', 'g')"
   ]
  },
  {
   "cell_type": "code",
   "execution_count": null,
   "id": "680f2adb",
   "metadata": {},
   "outputs": [],
   "source": []
  },
  {
   "cell_type": "code",
   "execution_count": null,
   "id": "e4122140",
   "metadata": {},
   "outputs": [],
   "source": []
  },
  {
   "cell_type": "code",
   "execution_count": null,
   "id": "2efe7e62",
   "metadata": {},
   "outputs": [],
   "source": []
  },
  {
   "cell_type": "code",
   "execution_count": null,
   "id": "9f469e61",
   "metadata": {},
   "outputs": [],
   "source": []
  },
  {
   "cell_type": "markdown",
   "id": "d017808c",
   "metadata": {},
   "source": [
    "SQL"
   ]
  },
  {
   "cell_type": "code",
   "execution_count": null,
   "id": "31b4edb3",
   "metadata": {},
   "outputs": [],
   "source": [
    "select count(city) - count(distinct city) from station;"
   ]
  }
 ],
 "metadata": {
  "kernelspec": {
   "display_name": "Python 3 (ipykernel)",
   "language": "python",
   "name": "python3"
  },
  "language_info": {
   "codemirror_mode": {
    "name": "ipython",
    "version": 3
   },
   "file_extension": ".py",
   "mimetype": "text/x-python",
   "name": "python",
   "nbconvert_exporter": "python",
   "pygments_lexer": "ipython3",
   "version": "3.9.12"
  }
 },
 "nbformat": 4,
 "nbformat_minor": 5
}
