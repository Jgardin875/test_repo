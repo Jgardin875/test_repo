{
 "cells": [
  {
   "cell_type": "code",
   "execution_count": null,
   "id": "62bdccd5",
   "metadata": {},
   "outputs": [],
   "source": [
    "select count(city) - count(distinct city) from station;"
   ]
  },
  {
   "cell_type": "code",
   "execution_count": null,
   "id": "1c6b4f18",
   "metadata": {},
   "outputs": [],
   "source": []
  },
  {
   "cell_type": "code",
   "execution_count": null,
   "id": "8ccc69df",
   "metadata": {},
   "outputs": [],
   "source": []
  },
  {
   "cell_type": "markdown",
   "id": "e56ab8c1",
   "metadata": {},
   "source": [
    "# Problem 1\n",
    "Query the Name of any student in STUDENTS who scored higher than Marks. Order your output by the last three characters of each name."
   ]
  },
  {
   "cell_type": "code",
   "execution_count": null,
   "id": "80e3a5c5",
   "metadata": {},
   "outputs": [],
   "source": [
    "#Did not work\n",
    "select name from students where marks > 75 order by substring(name, length(name)-3, length(name)) ASC;\n",
    "#normally, I'd troubleshoot the error a little more but seeing as I don't have the table in my normal workspace, \n",
    "# (I only have it on HackerRank)\n",
    "#I am going to move on to attempt two\n",
    "\n",
    "\n"
   ]
  },
  {
   "cell_type": "code",
   "execution_count": null,
   "id": "6ae35d7e",
   "metadata": {},
   "outputs": [],
   "source": [
    "#Attempt two:\n",
    "select name from students where marks > 75 order by right(name, 3) ASC;"
   ]
  },
  {
   "cell_type": "code",
   "execution_count": null,
   "id": "97a703c2",
   "metadata": {},
   "outputs": [],
   "source": [
    "#Great! Got the marks and name ordering down, now just to the next part!\n",
    "# If two or more students both have names ending in the same last three characters (i.e.: Bobby, Robby, etc.), secondary sort them by ascending ID\n",
    "\n",
    "."
   ]
  },
  {
   "cell_type": "code",
   "execution_count": null,
   "id": "802432f0",
   "metadata": {},
   "outputs": [],
   "source": [
    "select name from students where marks > 75 order by right(name, 3) ASC, id ASC;"
   ]
  },
  {
   "cell_type": "code",
   "execution_count": null,
   "id": "6f582201",
   "metadata": {},
   "outputs": [],
   "source": []
  },
  {
   "cell_type": "code",
   "execution_count": null,
   "id": "77a6f2e4",
   "metadata": {},
   "outputs": [],
   "source": []
  }
 ],
 "metadata": {
  "kernelspec": {
   "display_name": "Python 3 (ipykernel)",
   "language": "python",
   "name": "python3"
  },
  "language_info": {
   "codemirror_mode": {
    "name": "ipython",
    "version": 3
   },
   "file_extension": ".py",
   "mimetype": "text/x-python",
   "name": "python",
   "nbconvert_exporter": "python",
   "pygments_lexer": "ipython3",
   "version": "3.9.12"
  }
 },
 "nbformat": 4,
 "nbformat_minor": 5
}
