{
 "cells": [
  {
   "cell_type": "code",
   "execution_count": null,
   "id": "62bdccd5",
   "metadata": {},
   "outputs": [],
   "source": [
    "select count(city) - count(distinct city) from station;"
   ]
  },
  {
   "cell_type": "code",
   "execution_count": null,
   "id": "1c6b4f18",
   "metadata": {},
   "outputs": [],
   "source": []
  },
  {
   "cell_type": "code",
   "execution_count": null,
   "id": "8ccc69df",
   "metadata": {},
   "outputs": [],
   "source": []
  },
  {
   "cell_type": "markdown",
   "id": "e56ab8c1",
   "metadata": {},
   "source": [
    "# Problem 1\n",
    "Query the Name of any student in STUDENTS who scored higher than Marks. Order your output by the last three characters of each name."
   ]
  },
  {
   "cell_type": "code",
   "execution_count": null,
   "id": "80e3a5c5",
   "metadata": {},
   "outputs": [],
   "source": [
    "#Did not work\n",
    "select name from students where marks > 75 order by substring(name, length(name)-3, length(name)) ASC;\n",
    "#normally, I'd troubleshoot the error a little more but seeing as I don't have the table in my normal workspace, \n",
    "# (I only have it on HackerRank)\n",
    "#I am going to move on to attempt two\n",
    "\n",
    "\n"
   ]
  },
  {
   "cell_type": "code",
   "execution_count": null,
   "id": "6ae35d7e",
   "metadata": {},
   "outputs": [],
   "source": [
    "#Attempt two:\n",
    "select name from students where marks > 75 order by right(name, 3) ASC;"
   ]
  },
  {
   "cell_type": "code",
   "execution_count": null,
   "id": "97a703c2",
   "metadata": {},
   "outputs": [],
   "source": [
    "#Great! Got the marks and name ordering down, now just to the next part!\n",
    "# If two or more students both have names ending in the same last three characters (i.e.: Bobby, Robby, etc.), secondary sort them by ascending ID\n",
    "\n",
    "."
   ]
  },
  {
   "cell_type": "code",
   "execution_count": null,
   "id": "802432f0",
   "metadata": {},
   "outputs": [],
   "source": [
    "select name from students where marks > 75 order by right(name, 3) ASC, id ASC;"
   ]
  },
  {
   "cell_type": "markdown",
   "id": "d12aee09",
   "metadata": {},
   "source": [
    "# Problem 2"
   ]
  },
  {
   "cell_type": "code",
   "execution_count": null,
   "id": "77a6f2e4",
   "metadata": {},
   "outputs": [],
   "source": [
    "Write a query to find the maximum total earnings(salary * months) for all employees as well as the total number of employees who have maximum total earnings.\n",
    "\n",
    "\n"
   ]
  },
  {
   "cell_type": "code",
   "execution_count": null,
   "id": "d450901d",
   "metadata": {},
   "outputs": [],
   "source": [
    "select MAX(salary*months), count(*) from Employee \n",
    "where salary*months = (select MAX(salary*months) from Employee) \n",
    "order by salary*months DESC \n",
    "LIMIT 1;\n",
    "\n",
    "\n",
    "\n"
   ]
  },
  {
   "cell_type": "markdown",
   "id": "2574129a",
   "metadata": {},
   "source": [
    "# 3"
   ]
  },
  {
   "cell_type": "code",
   "execution_count": null,
   "id": "3d2ef57f",
   "metadata": {},
   "outputs": [],
   "source": [
    "sum some numbers to 2 decimals\n",
    "select round(sum(LAT_N),2), round(sum(LONG_W),2) FROM station;\n"
   ]
  },
  {
   "cell_type": "markdown",
   "id": "bd7ae058",
   "metadata": {},
   "source": [
    "# Pivot table. \n",
    "#### I wanted to use the pivot function, so I used sql server not mysql for this one"
   ]
  },
  {
   "cell_type": "code",
   "execution_count": null,
   "id": "3f6a1147",
   "metadata": {},
   "outputs": [],
   "source": [
    "SELECT [Doctor], [Professor], [Singer], [Actor]\n",
    "FROM \n",
    "(select *, row_number() over(partition by occupation order by name) as row_num FROM occupations) as tab1\n",
    "PIVOT \n",
    "(MIN(NAME) FOR occupation IN ([Doctor], [Professor], [Singer], [Actor])) AS tab2;\n",
    "\n",
    "NOTE: PIVOT FUNCTION:\n",
    "        SELECT <columns> \n",
    "        FROM\n",
    "        (source query)\n",
    "        PIVOT\n",
    "        (<agg_func> FOR <spreading_column> IN (<spreading_elements>)) "
   ]
  },
  {
   "cell_type": "markdown",
   "id": "7f451cf0",
   "metadata": {},
   "source": [
    "# The cell below is NOT MY CODE\n",
    "I'm just for my reference in the futre"
   ]
  },
  {
   "cell_type": "code",
   "execution_count": null,
   "id": "e59ba272",
   "metadata": {},
   "outputs": [],
   "source": [
    "# NOT MY CODE\n",
    "It seems that for My SQL you have to make case statments or a bunch of where statements as prateek_kumar_a1 did below:\n",
    "    \n",
    "    with DOCTOR AS (\n",
    "SELECT  NAME , row_number()OVER(partition by occupation order by name) as rn \n",
    "from OCCUPATIONS\n",
    "WHERE OCCUPATION ='DOCTOR'\n",
    ") ,\n",
    "Professor AS (\n",
    "SELECT NAME ,  row_number()OVER(partition by occupation order by name) as rn \n",
    "from OCCUPATIONS\n",
    "WHERE OCCUPATION ='Professor'\n",
    ") ,\n",
    "Singer AS (\n",
    "SELECT NAME , row_number()OVER(partition by occupation order by name) as rn \n",
    "from OCCUPATIONS\n",
    "WHERE OCCUPATION ='Singer'\n",
    ") ,\n",
    "Actor AS (\n",
    "SELECT NAME , row_number()OVER(partition by occupation order by name) as rn \n",
    "from OCCUPATIONS\n",
    "WHERE OCCUPATION ='Actor'\n",
    ")\n",
    "SELECT DOCTOR.NAME,PROFESSOR.NAME,SINGER.NAME,ACTOR.NAME\n",
    "from doctor right join professor\n",
    "on DOCTOR.RN=professor.rn\n",
    "LEFT JOIN\n",
    "SINGER\n",
    "on professor.rn=SINGER.RN\n",
    "LEFT JOIN\n",
    "ACTOR\n",
    "on ACTOR.rn=SINGER.RN\n",
    ";"
   ]
  },
  {
   "cell_type": "markdown",
   "id": "6523230a",
   "metadata": {},
   "source": [
    "# City Starts with vowel"
   ]
  },
  {
   "cell_type": "code",
   "execution_count": null,
   "id": "e9480783",
   "metadata": {},
   "outputs": [],
   "source": [
    "select distinct(city) from station \n",
    "where substring(city, 1, 1) = 'a'\n",
    "OR \n",
    "substring(city, 1, 1) = 'e'\n",
    "OR \n",
    "substring(city, 1, 1) = 'i'\n",
    "OR \n",
    "substring(city, 1, 1) = 'o'\n",
    "OR \n",
    "substring(city, 1, 1) = 'u';"
   ]
  },
  {
   "cell_type": "code",
   "execution_count": null,
   "id": "963078ce",
   "metadata": {},
   "outputs": [],
   "source": [
    "#other ways from other people"
   ]
  },
  {
   "cell_type": "code",
   "execution_count": null,
   "id": "bc3b3cb5",
   "metadata": {},
   "outputs": [],
   "source": [
    "SELECT DISTINCT city FROM station WHERE city REGEXP \"^[aeiou]\";"
   ]
  },
  {
   "cell_type": "code",
   "execution_count": null,
   "id": "09546e4d",
   "metadata": {},
   "outputs": [],
   "source": [
    "SELECT UNIQUE CITY FROM STATION WHERE CITY LIKE 'A%' OR CITY LIKE 'E%' OR CITY LIKE 'I%' OR CITY LIKE 'O%' OR CITY LIKE 'U%'"
   ]
  },
  {
   "cell_type": "code",
   "execution_count": null,
   "id": "b30274c7",
   "metadata": {},
   "outputs": [],
   "source": [
    "# City ends with vowel:"
   ]
  },
  {
   "cell_type": "code",
   "execution_count": null,
   "id": "168842e2",
   "metadata": {},
   "outputs": [],
   "source": [
    "I tried the REGEXP method and it worked:\n",
    "    select distinct(city) from station where city REGEXP '[a,e,i,o,u]$'"
   ]
  },
  {
   "cell_type": "code",
   "execution_count": null,
   "id": "2ab173ad",
   "metadata": {},
   "outputs": [],
   "source": [
    "#star and end in vowel"
   ]
  },
  {
   "cell_type": "code",
   "execution_count": null,
   "id": "e037bc2d",
   "metadata": {},
   "outputs": [],
   "source": [
    "select distinct(city) from station where city regexp '^[a,e,i,o,u]' AND city regexp '[a,e,i,o,u]$';\n",
    "NOTE regexp '^[a,e,i,o,u]$' did NOT work"
   ]
  },
  {
   "cell_type": "code",
   "execution_count": null,
   "id": "51882979",
   "metadata": {},
   "outputs": [],
   "source": [
    "# begins with NOT a vowel\n",
    "select distinct(city) from station where city regexp '^[^a,e,i,o,u]'"
   ]
  },
  {
   "cell_type": "code",
   "execution_count": null,
   "id": "809aebc2",
   "metadata": {},
   "outputs": [],
   "source": [
    "# does not end with a vowel\n",
    "select distinct(city) from station where city REGEXP '[^a,e,i,o,u]$'"
   ]
  }
 ],
 "metadata": {
  "kernelspec": {
   "display_name": "Python 3 (ipykernel)",
   "language": "python",
   "name": "python3"
  },
  "language_info": {
   "codemirror_mode": {
    "name": "ipython",
    "version": 3
   },
   "file_extension": ".py",
   "mimetype": "text/x-python",
   "name": "python",
   "nbconvert_exporter": "python",
   "pygments_lexer": "ipython3",
   "version": "3.9.12"
  }
 },
 "nbformat": 4,
 "nbformat_minor": 5
}
