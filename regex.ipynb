{
 "cells": [
  {
   "cell_type": "code",
   "execution_count": null,
   "id": "a4cb1d52",
   "metadata": {},
   "outputs": [],
   "source": [
    "abc.def.ghi.jkl  \n",
    "where each variable can be any single character except the newline."
   ]
  },
  {
   "cell_type": "code",
   "execution_count": null,
   "id": "cdf4c9e3",
   "metadata": {},
   "outputs": [],
   "source": [
    "(Dot.) In the default mode, this matches any character except a newline. \n",
    "If the DOTALL flag has been specified, this matches any character including a newline."
   ]
  },
  {
   "cell_type": "code",
   "execution_count": null,
   "id": "efc066a7",
   "metadata": {},
   "outputs": [],
   "source": [
    "r\"...\\....\\....\\....\"\n",
    "\n",
    ". = any character and \\. = ."
   ]
  },
  {
   "cell_type": "code",
   "execution_count": null,
   "id": "569f8489",
   "metadata": {},
   "outputs": [],
   "source": [
    "failed on:\n",
    "123.123.123.1234\n",
    "...\\....\\....\\....\n",
    "(pattern)4\n",
    "need to tell it beginning and end"
   ]
  },
  {
   "cell_type": "code",
   "execution_count": null,
   "id": "bec01133",
   "metadata": {},
   "outputs": [],
   "source": [
    "r\"^...\\....\\....\\....$\"\n",
    "worked!"
   ]
  },
  {
   "cell_type": "code",
   "execution_count": null,
   "id": "45e4315a",
   "metadata": {},
   "outputs": [],
   "source": []
  },
  {
   "cell_type": "code",
   "execution_count": null,
   "id": "ebb58e88",
   "metadata": {},
   "outputs": [],
   "source": [
    "match the pattern xxXxxXxxxx\n",
    "Here denotes x a digit character, and X denotes a non-digit character."
   ]
  },
  {
   "cell_type": "code",
   "execution_count": null,
   "id": "b9b5990b",
   "metadata": {},
   "outputs": [],
   "source": [
    "\\d = [0-9]\n",
    "\\D= [^0-9]"
   ]
  },
  {
   "cell_type": "code",
   "execution_count": null,
   "id": "df719c0e",
   "metadata": {},
   "outputs": [],
   "source": [
    "\"^\\d\\d\\D\\d\\d\\D\\d{4}\""
   ]
  },
  {
   "cell_type": "code",
   "execution_count": null,
   "id": "a304997b",
   "metadata": {},
   "outputs": [],
   "source": []
  },
  {
   "cell_type": "code",
   "execution_count": null,
   "id": "d96d9485",
   "metadata": {},
   "outputs": [],
   "source": [
    "\\s white spaces [ \\t\\n\\r\\f\\v] space, tab, newline, carriage return, form feed, something"
   ]
  },
  {
   "cell_type": "code",
   "execution_count": null,
   "id": "c4a7ea51",
   "metadata": {},
   "outputs": [],
   "source": [
    "XXxXXxXX X=non-white space x=white space"
   ]
  },
  {
   "cell_type": "code",
   "execution_count": null,
   "id": "2ff5ad6b",
   "metadata": {},
   "outputs": [],
   "source": [
    "r\"\\S{2}\\s\\S{2}\\s\\S{2}\""
   ]
  },
  {
   "cell_type": "code",
   "execution_count": null,
   "id": "e84f4d2c",
   "metadata": {},
   "outputs": [],
   "source": []
  },
  {
   "cell_type": "code",
   "execution_count": null,
   "id": "730f28fd",
   "metadata": {},
   "outputs": [],
   "source": [
    "\\w alphanumeric and underscores [a-zA-Z0-9_]"
   ]
  },
  {
   "cell_type": "code",
   "execution_count": null,
   "id": "eff99f9d",
   "metadata": {},
   "outputs": [],
   "source": []
  },
  {
   "cell_type": "code",
   "execution_count": null,
   "id": "89da20d5",
   "metadata": {},
   "outputs": [],
   "source": []
  },
  {
   "cell_type": "code",
   "execution_count": null,
   "id": "a2f6dee0",
   "metadata": {},
   "outputs": [],
   "source": []
  },
  {
   "cell_type": "code",
   "execution_count": null,
   "id": "6dce3668",
   "metadata": {},
   "outputs": [],
   "source": []
  },
  {
   "cell_type": "code",
   "execution_count": null,
   "id": "e6f769ee",
   "metadata": {},
   "outputs": [],
   "source": []
  },
  {
   "cell_type": "code",
   "execution_count": null,
   "id": "b19187a3",
   "metadata": {},
   "outputs": [],
   "source": []
  },
  {
   "cell_type": "code",
   "execution_count": null,
   "id": "3e26ee70",
   "metadata": {},
   "outputs": [],
   "source": []
  }
 ],
 "metadata": {
  "kernelspec": {
   "display_name": "Python 3 (ipykernel)",
   "language": "python",
   "name": "python3"
  },
  "language_info": {
   "codemirror_mode": {
    "name": "ipython",
    "version": 3
   },
   "file_extension": ".py",
   "mimetype": "text/x-python",
   "name": "python",
   "nbconvert_exporter": "python",
   "pygments_lexer": "ipython3",
   "version": "3.9.12"
  }
 },
 "nbformat": 4,
 "nbformat_minor": 5
}
